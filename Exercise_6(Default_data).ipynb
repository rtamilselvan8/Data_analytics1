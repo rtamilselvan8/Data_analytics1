{
  "nbformat": 4,
  "nbformat_minor": 0,
  "metadata": {
    "colab": {
      "name": "Exercise-6(Default data).ipynb",
      "version": "0.3.2",
      "provenance": []
    },
    "kernelspec": {
      "name": "python3",
      "display_name": "Python 3"
    }
  },
  "cells": [
    {
      "cell_type": "code",
      "metadata": {
        "id": "vbmJv8rbkhPq",
        "colab_type": "code",
        "colab": {
          "base_uri": "https://localhost:8080/",
          "height": 283
        },
        "outputId": "fc02dd6e-8c9a-4fce-bbb0-36399d8a6a96"
      },
      "source": [
        "import numpy as np\n",
        "import matplotlib.pyplot as plt\n",
        "x = np.array([1,2,2,3])\n",
        "y = np.array([1,1,2,2])\n",
        "plt.scatter(x, y)\n",
        "plt.xlabel('x')\n",
        "plt.ylabel('y')\n",
        "plt.show()"
      ],
      "execution_count": 1,
      "outputs": [
        {
          "output_type": "display_data",
          "data": {
            "image/png": "[encoded data removed]",
            "text/plain": [
              "<Figure size 432x288 with 1 Axes>"
            ]
          },
          "metadata": {
            "tags": []
          }
        }
      ]
    },
    {
      "cell_type": "code",
      "metadata": {
        "id": "Jd4Ylab5ksJb",
        "colab_type": "code",
        "colab": {
          "base_uri": "https://localhost:8080/",
          "height": 34
        },
        "outputId": "887f9722-f78c-4d41-8f95-5128059d69aa"
      },
      "source": [
        "\n",
        "x_mean=np.mean(x)\n",
        "y_mean=np.mean(y)\n",
        "x_mean\n",
        "y_mean"
      ],
      "execution_count": 2,
      "outputs": [
        {
          "output_type": "execute_result",
          "data": {
            "text/plain": [
              "1.5"
            ]
          },
          "metadata": {
            "tags": []
          },
          "execution_count": 2
        }
      ]
    },
    {
      "cell_type": "code",
      "metadata": {
        "id": "0lfbOoHRk1Z6",
        "colab_type": "code",
        "colab": {
          "base_uri": "https://localhost:8080/",
          "height": 34
        },
        "outputId": "69d4e5d1-65c1-41d5-d928-99b707390666"
      },
      "source": [
        "\n",
        "x_sub=x-x_mean\n",
        "y_sub=y-y_mean\n",
        "x_sub\n",
        "y_sub"
      ],
      "execution_count": 3,
      "outputs": [
        {
          "output_type": "execute_result",
          "data": {
            "text/plain": [
              "array([-0.5, -0.5,  0.5,  0.5])"
            ]
          },
          "metadata": {
            "tags": []
          },
          "execution_count": 3
        }
      ]
    },
    {
      "cell_type": "code",
      "metadata": {
        "id": "Kc4GqLI4lAzJ",
        "colab_type": "code",
        "colab": {
          "base_uri": "https://localhost:8080/",
          "height": 51
        },
        "outputId": "aa27392c-41a6-4079-b318-6659152d284e"
      },
      "source": [
        "matrix=np.array([x_sub,y_sub])\n",
        "matrix"
      ],
      "execution_count": 4,
      "outputs": [
        {
          "output_type": "execute_result",
          "data": {
            "text/plain": [
              "array([[-1. ,  0. ,  0. ,  1. ],\n",
              "       [-0.5, -0.5,  0.5,  0.5]])"
            ]
          },
          "metadata": {
            "tags": []
          },
          "execution_count": 4
        }
      ]
    },
    {
      "cell_type": "code",
      "metadata": {
        "id": "syT8PiLUlHTS",
        "colab_type": "code",
        "colab": {
          "base_uri": "https://localhost:8080/",
          "height": 85
        },
        "outputId": "b139e7ab-b4f2-4910-b67e-bd0ef5bf6c1a"
      },
      "source": [
        "matrix1=matrix.transpose()\n",
        "matrix1"
      ],
      "execution_count": 9,
      "outputs": [
        {
          "output_type": "execute_result",
          "data": {
            "text/plain": [
              "array([[-1. , -0.5],\n",
              "       [ 0. , -0.5],\n",
              "       [ 0. ,  0.5],\n",
              "       [ 1. ,  0.5]])"
            ]
          },
          "metadata": {
            "tags": []
          },
          "execution_count": 9
        }
      ]
    },
    {
      "cell_type": "code",
      "metadata": {
        "id": "8xY_cUC1lSdr",
        "colab_type": "code",
        "colab": {
          "base_uri": "https://localhost:8080/",
          "height": 85
        },
        "outputId": "b7e3342f-9ed1-47e4-901b-05760860db5b"
      },
      "source": [
        "matrix2=matrix1.dot(matrix)\n",
        "matrix2"
      ],
      "execution_count": 6,
      "outputs": [
        {
          "output_type": "execute_result",
          "data": {
            "text/plain": [
              "array([[ 1.25,  0.25, -0.25, -1.25],\n",
              "       [ 0.25,  0.25, -0.25, -0.25],\n",
              "       [-0.25, -0.25,  0.25,  0.25],\n",
              "       [-1.25, -0.25,  0.25,  1.25]])"
            ]
          },
          "metadata": {
            "tags": []
          },
          "execution_count": 6
        }
      ]
    },
    {
      "cell_type": "code",
      "metadata": {
        "id": "gtMk2QzelWKR",
        "colab_type": "code",
        "colab": {
          "base_uri": "https://localhost:8080/",
          "height": 102
        },
        "outputId": "cce2c6ba-dfc1-42c4-c97a-790bd98be3c8"
      },
      "source": [
        "v1,v2=np.linalg.eig(matrix2)\n",
        "print(\"Eigen values\",v1)\n",
        "print(\"Eigen vectors\",v2)"
      ],
      "execution_count": 7,
      "outputs": [
        {
          "output_type": "stream",
          "text": [
            "Eigen values [ 2.61803399e+00  3.81966011e-01 -9.45799730e-17 -2.55373581e-17]\n",
            "Eigen vectors [[-0.68819096  0.16245985  0.67618941  0.02708022]\n",
            " [-0.16245985 -0.68819096  0.20680399  0.70658804]\n",
            " [ 0.16245985  0.68819096  0.20680399  0.70658804]\n",
            " [ 0.68819096 -0.16245985  0.67618941  0.02708022]]\n"
          ],
          "name": "stdout"
        }
      ]
    }
  ]
}