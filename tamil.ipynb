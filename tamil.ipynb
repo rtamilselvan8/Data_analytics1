import numpy as np
import pandas as pd
import matplotlib.pyplot as plt
import statistics
from scipy import stats  
% matplotlib inline
df=pd.read_csv("Z:\\Data Analytics\\auto_clean.csv")
df.head()
af=df.head()
af.boxplot(by='aspiration',column=['city_mpg'],grid=False)
x=df.city_mpg
mean=statistics.mean(x)
print("mean is",mean)
gmean=stats.gmean(df.city_mpg)
print("gmean is",gmean)
hmean=stats.hmean(df.city_mpg)
print("hmean is",hmean)
histogram=df.city_mpg
plt.hist(histogram,bins=20)
plt.ylabel('mpg')
plt.show()
df.iloc[:20].plot.bar()
plt.show()
freq={}
for item in df.horsepower:
    if(item in freq):
        freq[item] +=1
    else:
        freq[item] =1
freq