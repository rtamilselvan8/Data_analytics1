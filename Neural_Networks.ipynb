{
  "nbformat": 4,
  "nbformat_minor": 0,
  "metadata": {
    "colab": {
      "name": "Neural Networks.ipynb",
      "version": "0.3.2",
      "provenance": [],
      "collapsed_sections": []
    },
    "kernelspec": {
      "name": "python3",
      "display_name": "Python 3"
    }
  },
  "cells": [
    {
      "cell_type": "code",
      "metadata": {
        "id": "8dLx1YaDoQJI",
        "colab_type": "code",
        "colab": {}
      },
      "source": [
        "from keras.models import Sequential\n",
        "from keras.layers import Dense\n",
        "import numpy as np"
      ],
      "execution_count": 0,
      "outputs": []
    },
    {
      "cell_type": "code",
      "metadata": {
        "id": "FOPVzBw4oY7f",
        "colab_type": "code",
        "colab": {}
      },
      "source": [
        "weight1=np.array([[0.2,-0.3],[0.4,0.1],[-0.5,0.2]])\n",
        "bias1=np.array([0.4,0.2])\n",
        "weight2=np.array([[-0.3,0.2,0.6],[-0.2,-0.1,-0.2]])\n",
        "bias2=np.array([0.1,0.1,0.2])\n",
        "weight3=np.array([[0.3,0.2],[-0.5,0.5],[0.7,0.2]])\n",
        "bias3=np.array([-0.1,-0.2])\n",
        "weights=[weight1,bias1,weight2,bias2,weight3,bias3]"
      ],
      "execution_count": 0,
      "outputs": []
    },
    {
      "cell_type": "code",
      "metadata": {
        "id": "ryoyyMrYoqA2",
        "colab_type": "code",
        "colab": {}
      },
      "source": [
        "model = Sequential()\n",
        "hidden1 = model.add(Dense(2,activation=\"sigmoid\",input_dim=3))\n",
        "hidden2=model.add(Dense(3,activation=\"sigmoid\"))\n",
        "o = model.add(Dense(2,activation=\"sigmoid\"))\n",
        "model.compile(loss=\"mean_squared_error\",optimizer=\"Adam\",metrics=['accuracy'])\n",
        "model.set_weights(weights)"
      ],
      "execution_count": 0,
      "outputs": []
    },
    {
      "cell_type": "code",
      "metadata": {
        "id": "wVX9xf-NoxJe",
        "colab_type": "code",
        "outputId": "134e1412-62f6-4e22-c6be-4e7fed4ad58d",
        "colab": {
          "base_uri": "https://localhost:8080/",
          "height": 68
        }
      },
      "source": [
        "x=np.array([[1,0,1]])\n",
        "y=np.array([[1,0]])\n",
        "model.fit(x,y,epochs=1)"
      ],
      "execution_count": 0,
      "outputs": [
        {
          "output_type": "stream",
          "text": [
            "Epoch 1/1\n",
            "1/1 [==============================] - 0s 303ms/step - loss: 0.2648 - acc: 0.0000e+00\n"
          ],
          "name": "stdout"
        },
        {
          "output_type": "execute_result",
          "data": {
            "text/plain": [
              "<keras.callbacks.History at 0x7f549c1f1d30>"
            ]
          },
          "metadata": {
            "tags": []
          },
          "execution_count": 34
        }
      ]
    },
    {
      "cell_type": "code",
      "metadata": {
        "id": "BmwxQid_o4SW",
        "colab_type": "code",
        "outputId": "e10e11c3-d1b4-4de5-8fe0-19413bce8adc",
        "colab": {
          "base_uri": "https://localhost:8080/",
          "height": 51
        }
      },
      "source": [
        "score = model.evaluate(x,y, verbose=0)\n",
        "print('Test loss:', score[0])\n",
        "print('Test accuracy:', score[1])"
      ],
      "execution_count": 0,
      "outputs": [
        {
          "output_type": "stream",
          "text": [
            "Test loss: 0.264284610748291\n",
            "Test accuracy: 0.0\n"
          ],
          "name": "stdout"
        }
      ]
    },
    {
      "cell_type": "code",
      "metadata": {
        "id": "cWP-GG3xpTEm",
        "colab_type": "code",
        "outputId": "cbb68cde-d4e3-400e-e276-e27ad000cce5",
        "colab": {
          "base_uri": "https://localhost:8080/",
          "height": 204
        }
      },
      "source": [
        "model.get_weights()"
      ],
      "execution_count": 0,
      "outputs": [
        {
          "output_type": "execute_result",
          "data": {
            "text/plain": [
              "[array([[ 0.20072854, -0.2992777 ],\n",
              "        [ 0.4       ,  0.1       ],\n",
              "        [-0.49927148,  0.20072232]], dtype=float32),\n",
              " array([0.40072852, 0.20072232], dtype=float32),\n",
              " array([[-0.299259  ,  0.19925602,  0.6007438 ],\n",
              "        [-0.19925901, -0.10074399, -0.19925624]], dtype=float32),\n",
              " array([0.10074248, 0.09925594, 0.20074394], dtype=float32),\n",
              " array([[ 0.3007441,  0.1992559],\n",
              "        [-0.4992559,  0.4992559],\n",
              "        [ 0.7007441,  0.1992559]], dtype=float32),\n",
              " array([-0.09925589, -0.20074412], dtype=float32)]"
            ]
          },
          "metadata": {
            "tags": []
          },
          "execution_count": 36
        }
      ]
    },
    {
      "cell_type": "code",
      "metadata": {
        "id": "XtdWqCEopY-O",
        "colab_type": "code",
        "outputId": "bfad1def-e1f7-4dbd-995c-0f8bae0fc690",
        "colab": {
          "base_uri": "https://localhost:8080/",
          "height": 238
        }
      },
      "source": [
        "model.summary()"
      ],
      "execution_count": 0,
      "outputs": [
        {
          "output_type": "stream",
          "text": [
            "_________________________________________________________________\n",
            "Layer (type)                 Output Shape              Param #   \n",
            "=================================================================\n",
            "dense_16 (Dense)             (None, 2)                 8         \n",
            "_________________________________________________________________\n",
            "dense_17 (Dense)             (None, 3)                 9         \n",
            "_________________________________________________________________\n",
            "dense_18 (Dense)             (None, 2)                 8         \n",
            "=================================================================\n",
            "Total params: 25\n",
            "Trainable params: 25\n",
            "Non-trainable params: 0\n",
            "_________________________________________________________________\n"
          ],
          "name": "stdout"
        }
      ]
    }
  ]
}