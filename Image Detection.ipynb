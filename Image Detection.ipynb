{
 "cells": [
  {
   "cell_type": "code",
   "execution_count": 1,
   "metadata": {},
   "outputs": [
    {
     "data": {
      "text/plain": [
       "-1"
      ]
     },
     "execution_count": 1,
     "metadata": {},
     "output_type": "execute_result"
    }
   ],
   "source": [
    "import numpy as np\n",
    "import argparse\n",
    "import cv2\n",
    " \n",
    "# construct the argument parse and parse the arguments\n",
    "#ap = argparse.ArgumentParser()\n",
    "#ap.add_argument(\"-i\", \"--image\", help = \"path to the image\")\n",
    "#args = vars(ap.parse_args())\n",
    " \n",
    "# load the image\n",
    "image = cv2.imread(\"Z:\\\\Data Analytics\\\\Rose-NationalflowerUSA.jpg\")\n",
    "cv2.imshow(\"original\",image)\n",
    "cv2.waitKey(0)"
   ]
  },
  {
   "cell_type": "code",
   "execution_count": 2,
   "metadata": {},
   "outputs": [],
   "source": [
    "# define the list of boundaries\n",
    "boundaries = [\n",
    "\t([17, 15, 100], [50, 56, 200]),\n",
    "\t([86, 31, 4], [220, 88, 50]),\n",
    "\t([25, 146, 190], [62, 174, 250]),\n",
    "\t([103, 86, 65], [145, 133, 128])\n",
    "]"
   ]
  },
  {
   "cell_type": "code",
   "execution_count": null,
   "metadata": {},
   "outputs": [],
   "source": [
    "for (lower, upper) in boundaries:\n",
    "\t# create NumPy arrays from the boundaries\n",
    "\tlower = np.array(lower, dtype = \"uint8\")\n",
    "\tupper = np.array(upper, dtype = \"uint8\")\n",
    " \n",
    "\t# find the colors within the specified boundaries and apply\n",
    "\t# the mask\n",
    "\tmask = cv2.inRange(image, lower, upper)\n",
    "\toutput = cv2.bitwise_and(image, image, mask = mask)\n",
    " \n",
    "\t# show the images\n",
    "\tcv2.imshow(\"images\", np.hstack([image, output]))\n",
    "\tcv2.waitKey(0)"
   ]
  },
  {
   "cell_type": "code",
   "execution_count": null,
   "metadata": {},
   "outputs": [],
   "source": []
  }
 ],
 "metadata": {
  "kernelspec": {
   "display_name": "Python 3",
   "language": "python",
   "name": "python3"
  },
  "language_info": {
   "codemirror_mode": {
    "name": "ipython",
    "version": 3
   },
   "file_extension": ".py",
   "mimetype": "text/x-python",
   "name": "python",
   "nbconvert_exporter": "python",
   "pygments_lexer": "ipython3",
   "version": "3.6.5"
  }
 },
 "nbformat": 4,
 "nbformat_minor": 2
}
